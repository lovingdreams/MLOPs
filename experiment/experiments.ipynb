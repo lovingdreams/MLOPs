{
 "cells": [
  {
   "cell_type": "code",
   "execution_count": 6,
   "metadata": {},
   "outputs": [],
   "source": [
    "import pandas as pd"
   ]
  },
  {
   "cell_type": "code",
   "execution_count": 27,
   "metadata": {},
   "outputs": [],
   "source": [
    "data=pd.read_csv (\"https://raw.githubusercontent.com/lovingdreams/data/main/test.csv\")"
   ]
  },
  {
   "cell_type": "code",
   "execution_count": 28,
   "metadata": {},
   "outputs": [
    {
     "data": {
      "text/plain": [
       "cut\n",
       "Ideal        61223\n",
       "Premium      33498\n",
       "Very Good    25468\n",
       "Good          7554\n",
       "Fair          1307\n",
       "Name: count, dtype: int64"
      ]
     },
     "execution_count": 28,
     "metadata": {},
     "output_type": "execute_result"
    }
   ],
   "source": [
    "data[\"cut\"].value_counts()"
   ]
  },
  {
   "cell_type": "code",
   "execution_count": 29,
   "metadata": {},
   "outputs": [
    {
     "data": {
      "text/plain": [
       "id         0\n",
       "carat      0\n",
       "cut        0\n",
       "color      0\n",
       "clarity    0\n",
       "depth      0\n",
       "table      0\n",
       "x          0\n",
       "y          0\n",
       "z          0\n",
       "dtype: int64"
      ]
     },
     "execution_count": 29,
     "metadata": {},
     "output_type": "execute_result"
    }
   ],
   "source": [
    "data.isnull().sum()"
   ]
  },
  {
   "cell_type": "code",
   "execution_count": 31,
   "metadata": {},
   "outputs": [
    {
     "data": {
      "text/plain": [
       "1290500"
      ]
     },
     "execution_count": 31,
     "metadata": {},
     "output_type": "execute_result"
    }
   ],
   "source": [
    "data.size"
   ]
  },
  {
   "cell_type": "code",
   "execution_count": 32,
   "metadata": {},
   "outputs": [
    {
     "data": {
      "text/plain": [
       "(129050, 10)"
      ]
     },
     "execution_count": 32,
     "metadata": {},
     "output_type": "execute_result"
    }
   ],
   "source": [
    "data.shape"
   ]
  },
  {
   "cell_type": "code",
   "execution_count": 33,
   "metadata": {},
   "outputs": [
    {
     "data": {
      "text/plain": [
       "<bound method DataFrame.info of             id  carat        cut color clarity  depth  table     x     y     z\n",
       "0       193573   0.35      Ideal     D     VS2   62.3   56.0  4.51  4.54  2.82\n",
       "1       193574   0.77  Very Good     F     SI2   62.8   56.0  5.83  5.87  3.68\n",
       "2       193575   0.71      Ideal     I     VS2   61.9   53.0  5.77  5.74  3.55\n",
       "3       193576   0.33      Ideal     G    VVS2   61.6   55.0  4.44  4.42  2.73\n",
       "4       193577   1.20  Very Good     I     VS2   62.7   56.0  6.75  6.79  4.24\n",
       "...        ...    ...        ...   ...     ...    ...    ...   ...   ...   ...\n",
       "129045  322618   0.72      Ideal     D    VVS2   62.0   56.0  5.75  5.78  3.57\n",
       "129046  322619   0.70    Premium     D     SI1   59.6   62.0  5.77  5.74  3.43\n",
       "129047  322620   1.01    Premium     G    VVS2   62.3   58.0  6.44  6.41  4.01\n",
       "129048  322621   1.35      Ideal     D      I1   62.0   56.0  7.05  7.08  4.38\n",
       "129049  322622   1.07    Premium     H     SI2   62.6   60.0  6.49  6.45  4.06\n",
       "\n",
       "[129050 rows x 10 columns]>"
      ]
     },
     "execution_count": 33,
     "metadata": {},
     "output_type": "execute_result"
    }
   ],
   "source": [
    "data.info"
   ]
  },
  {
   "cell_type": "code",
   "execution_count": 34,
   "metadata": {},
   "outputs": [
    {
     "data": {
      "text/plain": [
       "Index(['id', 'carat', 'cut', 'color', 'clarity', 'depth', 'table', 'x', 'y',\n",
       "       'z'],\n",
       "      dtype='object')"
      ]
     },
     "execution_count": 34,
     "metadata": {},
     "output_type": "execute_result"
    }
   ],
   "source": [
    "data.columns"
   ]
  },
  {
   "cell_type": "code",
   "execution_count": 35,
   "metadata": {},
   "outputs": [
    {
     "data": {
      "text/plain": [
       "<bound method DataFrame.drop of             id  carat        cut color clarity  depth  table     x     y     z\n",
       "0       193573   0.35      Ideal     D     VS2   62.3   56.0  4.51  4.54  2.82\n",
       "1       193574   0.77  Very Good     F     SI2   62.8   56.0  5.83  5.87  3.68\n",
       "2       193575   0.71      Ideal     I     VS2   61.9   53.0  5.77  5.74  3.55\n",
       "3       193576   0.33      Ideal     G    VVS2   61.6   55.0  4.44  4.42  2.73\n",
       "4       193577   1.20  Very Good     I     VS2   62.7   56.0  6.75  6.79  4.24\n",
       "...        ...    ...        ...   ...     ...    ...    ...   ...   ...   ...\n",
       "129045  322618   0.72      Ideal     D    VVS2   62.0   56.0  5.75  5.78  3.57\n",
       "129046  322619   0.70    Premium     D     SI1   59.6   62.0  5.77  5.74  3.43\n",
       "129047  322620   1.01    Premium     G    VVS2   62.3   58.0  6.44  6.41  4.01\n",
       "129048  322621   1.35      Ideal     D      I1   62.0   56.0  7.05  7.08  4.38\n",
       "129049  322622   1.07    Premium     H     SI2   62.6   60.0  6.49  6.45  4.06\n",
       "\n",
       "[129050 rows x 10 columns]>"
      ]
     },
     "execution_count": 35,
     "metadata": {},
     "output_type": "execute_result"
    }
   ],
   "source": [
    "data.drop"
   ]
  },
  {
   "cell_type": "code",
   "execution_count": 36,
   "metadata": {},
   "outputs": [
    {
     "data": {
      "text/plain": [
       "0"
      ]
     },
     "execution_count": 36,
     "metadata": {},
     "output_type": "execute_result"
    }
   ],
   "source": [
    "data.duplicated().sum()"
   ]
  },
  {
   "cell_type": "code",
   "execution_count": 39,
   "metadata": {},
   "outputs": [
    {
     "data": {
      "text/plain": [
       "id         False\n",
       "carat      False\n",
       "cut         True\n",
       "color       True\n",
       "clarity     True\n",
       "depth      False\n",
       "table      False\n",
       "x          False\n",
       "y          False\n",
       "z          False\n",
       "dtype: bool"
      ]
     },
     "execution_count": 39,
     "metadata": {},
     "output_type": "execute_result"
    }
   ],
   "source": [
    "data.dtypes==object"
   ]
  },
  {
   "cell_type": "code",
   "execution_count": 40,
   "metadata": {},
   "outputs": [],
   "source": [
    "num_columns=data.columns[data.dtypes!=\"object\"]"
   ]
  }
 ],
 "metadata": {
  "kernelspec": {
   "display_name": "Python 3",
   "language": "python",
   "name": "python3"
  },
  "language_info": {
   "codemirror_mode": {
    "name": "ipython",
    "version": 3
   },
   "file_extension": ".py",
   "mimetype": "text/x-python",
   "name": "python",
   "nbconvert_exporter": "python",
   "pygments_lexer": "ipython3",
   "version": "3.12.3"
  }
 },
 "nbformat": 4,
 "nbformat_minor": 2
}
